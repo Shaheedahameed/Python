{
 "cells": [
  {
   "cell_type": "code",
   "execution_count": 3,
   "id": "d05a5310-af43-4c8a-b85b-b139fac1958c",
   "metadata": {},
   "outputs": [
    {
     "name": "stdout",
     "output_type": "stream",
     "text": [
      "Name : Aneesa\n",
      "Student Number : ST1001\n",
      "Email Address : Aneesa@gmail.com\n"
     ]
    }
   ],
   "source": [
    "#EXERCISE 1\n",
    "print(\"Name : Aneesa\")\n",
    "print(\"Student Number : ST1001\")\n",
    "print(\"Email Address : Aneesa@gmail.com\")"
   ]
  },
  {
   "cell_type": "code",
   "execution_count": 7,
   "id": "950b6fb5-9fce-4f14-95e2-757dbe7d0330",
   "metadata": {},
   "outputs": [
    {
     "name": "stdout",
     "output_type": "stream",
     "text": [
      "Name:Aneesa\n",
      "Student Number:ST1001\n",
      "Email Address:Aneesa@gmail.com\n"
     ]
    }
   ],
   "source": [
    "#EXCERCISE 2\n",
    "print(\"Name:Aneesa\\nStudent Number:ST1001\\nEmail Address:Aneesa@gmail.com\")"
   ]
  },
  {
   "cell_type": "code",
   "execution_count": 7,
   "id": "7be5e89b-01bb-4092-8512-7c7d81db7cfd",
   "metadata": {},
   "outputs": [
    {
     "name": "stdout",
     "output_type": "stream",
     "text": [
      "14+7= 21\n",
      "14*7= 98\n",
      "14-7= 7\n",
      "14/7= 2.0\n"
     ]
    }
   ],
   "source": [
    "#EXERCISE 3\n",
    "num1 = 14\n",
    "num2 = 7\n",
    "\n",
    "print(\"14+7=\",14+7)\n",
    "print(\"14*7=\",14*7)\n",
    "print(\"14-7=\",14-7)\n",
    "print(\"14/7=\",14/7)"
   ]
  },
  {
   "cell_type": "code",
   "execution_count": 24,
   "id": "52c31756-af96-4474-82cc-671893224667",
   "metadata": {},
   "outputs": [
    {
     "name": "stdout",
     "output_type": "stream",
     "text": [
      "1\n",
      "2\n",
      "3\n",
      "4\n",
      "5\n"
     ]
    }
   ],
   "source": [
    "#EXERCISE 4\n",
    "for i in range(1,6):\n",
    "  print(i)"
   ]
  },
  {
   "cell_type": "code",
   "execution_count": 26,
   "id": "11670fdf-62b9-4501-92fb-fd8b5d106722",
   "metadata": {},
   "outputs": [
    {
     "name": "stdout",
     "output_type": "stream",
     "text": [
      "\"SDK\"Stands for \"Software Development Kit\",whereas\"IDE\"Stands for\"Integrated Development Environment\".\n"
     ]
    }
   ],
   "source": [
    "#EXERCISE 5\n",
    "print(\"\\\"SDK\\\"Stands for \\\"Software Development Kit\\\",whereas\\\"IDE\\\"Stands for\\\"Integrated Development Environment\\\".\")"
   ]
  },
  {
   "cell_type": "code",
   "execution_count": 34,
   "id": "6ed680c9-8161-4f7c-a8d2-0a3d21db3a29",
   "metadata": {},
   "outputs": [
    {
     "name": "stdout",
     "output_type": "stream",
     "text": [
      "Python is an\"Awesome\"Language.\n",
      "Python\n",
      "\t2023\n",
      "I'm from Entri\n",
      "5\n",
      "e\n",
      "Entri\n",
      "2023\n",
      "Entr2023\n",
      "Entri*20"
     ]
    }
   ],
   "source": [
    "#EXERCISE 6\n",
    "print(\"Python is an\\\"Awesome\\\"Language.\")\n",
    "print(\"Python\\n\\t2023\")\n",
    "print('I\\'m from Entri.\\b')\n",
    "print(\"\\65\")\n",
    "print(\"\\x65\")\n",
    "print(\"Entri\",\"2023\",sep=\"\\n\")\n",
    "print(\"Entri\",\"2023\",sep=\"\\b\") \n",
    "print(\"Entri\",\"2023\",sep=\"*\",end=\"\\b\\b\\b\\b\")"
   ]
  },
  {
   "cell_type": "code",
   "execution_count": 9,
   "id": "5f394897-bac6-41a0-8a15-4fab61897e16",
   "metadata": {},
   "outputs": [
    {
     "name": "stdout",
     "output_type": "stream",
     "text": [
      "Type of num: <class 'int'>\n",
      "Type of textnum: <class 'str'>\n",
      "Type of decimal: <class 'float'>\n",
      "sum of variables: <built-in function sum>\n",
      "Datatype of the sum: <class 'builtin_function_or_method'>\n"
     ]
    }
   ],
   "source": [
    "#EXERCISE 7\n",
    "num=23\n",
    "textnum=\"57\"\n",
    "decimal=98.3\n",
    "\n",
    "print(\"Type of num:\",type(num)) \n",
    "print(\"Type of textnum:\", type(textnum))\n",
    "print(\"Type of decimal:\",type(decimal)) \n",
    "\n",
    "print(\"sum of variables:\",sum)\n",
    "print(\"Datatype of the sum:\",type(sum))"
   ]
  },
  {
   "cell_type": "code",
   "execution_count": 13,
   "id": "447f6f37-e82e-4145-a80e-60c9f721ca7a",
   "metadata": {},
   "outputs": [
    {
     "name": "stdout",
     "output_type": "stream",
     "text": [
      "the Total number of minutes in a year is: 525600\n"
     ]
    }
   ],
   "source": [
    "#EXERCISE 8\n",
    "days_in_year=365\n",
    "hours_in_day=24\n",
    "minutes_in_hour=60\n",
    "\n",
    "total_minutes = days_in_year*hours_in_day*minutes_in_hour\n",
    "print(f\"the Total number of minutes in a year is: {total_minutes}\")"
   ]
  },
  {
   "cell_type": "code",
   "execution_count": 35,
   "id": "5ea94376-1ed2-4a17-98ec-74fd10faf543",
   "metadata": {},
   "outputs": [
    {
     "name": "stdin",
     "output_type": "stream",
     "text": [
      "Please Enter your Name sha\n"
     ]
    },
    {
     "name": "stdout",
     "output_type": "stream",
     "text": [
      "Hi sha\n",
      "welcome to python programing\n"
     ]
    }
   ],
   "source": [
    "#EXERCISE 9\n",
    "Name = input(\"Please Enter your Name\")\n",
    "print(\"Hi\" ,Name)\n",
    "print(\"welcome to python programing\")"
   ]
  },
  {
   "cell_type": "code",
   "execution_count": 3,
   "id": "5952380d-b1a9-4538-a811-c53c607b677e",
   "metadata": {},
   "outputs": [
    {
     "name": "stdin",
     "output_type": "stream",
     "text": [
      "please enter amount in pounds: 20\n"
     ]
    },
    {
     "name": "stdout",
     "output_type": "stream",
     "text": [
      "(pounds) are (dollers:3f)\n"
     ]
    }
   ],
   "source": [
    "pounds=float(input(\"please enter amount in pounds:\"))\n",
    "dollers=pounds*2\n",
    "print(f\"(pounds) are (dollers:3f)\")"
   ]
  },
  {
   "cell_type": "code",
   "execution_count": null,
   "id": "c04fb752-833e-4dc1-96c9-a20502d12e81",
   "metadata": {},
   "outputs": [],
   "source": []
  }
 ],
 "metadata": {
  "kernelspec": {
   "display_name": "Python 3 (ipykernel)",
   "language": "python",
   "name": "python3"
  },
  "language_info": {
   "codemirror_mode": {
    "name": "ipython",
    "version": 3
   },
   "file_extension": ".py",
   "mimetype": "text/x-python",
   "name": "python",
   "nbconvert_exporter": "python",
   "pygments_lexer": "ipython3",
   "version": "3.12.4"
  }
 },
 "nbformat": 4,
 "nbformat_minor": 5
}

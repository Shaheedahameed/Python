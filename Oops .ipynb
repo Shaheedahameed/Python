{
 "cells": [
  {
   "cell_type": "code",
   "execution_count": 15,
   "id": "3e8319df-94a9-440a-832b-683319cb44e7",
   "metadata": {},
   "outputs": [
    {
     "name": "stdout",
     "output_type": "stream",
     "text": [
      "CS101 - Introduction to Computer Science (3 credit hours) - Required for Major: True\n",
      "CS201 - Data Structures (3 credit hours) - Elective Type: technical\n"
     ]
    }
   ],
   "source": [
    "# Question:1\n",
    "    def __init__(self, course_code, course_name, credit_hours):\n",
    "        self.course_code = course_code\n",
    "        self.course_name = course_name\n",
    "        self.credit_hours = credit_hours\n",
    "\n",
    "    def __str__(self):\n",
    "        return f\"{self.course_code} - {self.course_name} ({self.credit_hours} credit hours)\"\n",
    "\n",
    "\n",
    "class CoreCourse(Course):\n",
    "    def __init__(self, course_code, course_name, credit_hours, required_for_major):\n",
    "        super().__init__(course_code, course_name, credit_hours)\n",
    "        self.required_for_major = required_for_major\n",
    "\n",
    "    def __str__(self):\n",
    "        return f\"{super().__str__()} - Required for Major: {self.required_for_major}\"\n",
    "\n",
    "\n",
    "class ElectiveCourse(Course):\n",
    "    def __init__(self, course_code, course_name, credit_hours, elective_type):\n",
    "        super().__init__(course_code, course_name, credit_hours)\n",
    "        self.elective_type = elective_type\n",
    "\n",
    "    def __str__(self):\n",
    "        return f\"{super().__str__()} - Elective Type: {self.elective_type}\"\n",
    "\n",
    "# Example \n",
    "def main():\n",
    "    core_course = CoreCourse(\"CS101\", \"Introduction to Computer Science\", 3, True)\n",
    "    elective_course = ElectiveCourse(\"CS201\", \"Data Structures\", 3, \"technical\")\n",
    "\n",
    "    print(core_course)\n",
    "    print(elective_course)\n",
    "\n",
    "if __name__ == \"__main__\":\n",
    "    main()\n"
   ]
  },
  {
   "cell_type": "code",
   "execution_count": 52,
   "id": "51143703-301a-4e81-9689-b84a8619439f",
   "metadata": {},
   "outputs": [],
   "source": [
    "# Question:2\n",
    "class Employee:\n",
    "    def __init__(self, name, salary):\n",
    "        self.name = name\n",
    "        self.salary = salary\n",
    "\n",
    "    def get_name(self):\n",
    "        return self.name\n",
    "\n",
    "    def get_salary(self):\n",
    "        return self.salary"
   ]
  },
  {
   "cell_type": "code",
   "execution_count": 3,
   "id": "2b6b1acc-d80e-424c-ac13-fb2512aef071",
   "metadata": {},
   "outputs": [
    {
     "ename": "ModuleNotFoundError",
     "evalue": "No module named 'Employee'",
     "output_type": "error",
     "traceback": [
      "\u001b[1;31m---------------------------------------------------------------------------\u001b[0m",
      "\u001b[1;31mModuleNotFoundError\u001b[0m                       Traceback (most recent call last)",
      "Cell \u001b[1;32mIn[3], line 1\u001b[0m\n\u001b[1;32m----> 1\u001b[0m \u001b[38;5;28;01mfrom\u001b[39;00m \u001b[38;5;21;01mEmployee\u001b[39;00m \u001b[38;5;28;01mimport\u001b[39;00m employee\n\u001b[0;32m      3\u001b[0m \u001b[38;5;28;01mdef\u001b[39;00m \u001b[38;5;21mmain\u001b[39m():\n\u001b[0;32m      4\u001b[0m     emp \u001b[38;5;241m=\u001b[39m Employee(\u001b[38;5;124m\"\u001b[39m\u001b[38;5;124mJohn Doe\u001b[39m\u001b[38;5;124m\"\u001b[39m, \u001b[38;5;241m50000\u001b[39m)\n",
      "\u001b[1;31mModuleNotFoundError\u001b[0m: No module named 'Employee'"
     ]
    }
   ],
   "source": [
    "from Employee import employee\n",
    "\n",
    "def main():\n",
    "    emp = Employee(\"John Doe\", 50000)\n",
    "    \n",
    "print(f\"Employee Name: {emp.get_name()}\")\n",
    "print(f\"Employee Salary: ${emp.get_salary()}\")\n",
    "\n",
    "if __name__ == \"__main__\":\n",
    "    main()"
   ]
  }
 ],
 "metadata": {
  "kernelspec": {
   "display_name": "Python 3 (ipykernel)",
   "language": "python",
   "name": "python3"
  },
  "language_info": {
   "codemirror_mode": {
    "name": "ipython",
    "version": 3
   },
   "file_extension": ".py",
   "mimetype": "text/x-python",
   "name": "python",
   "nbconvert_exporter": "python",
   "pygments_lexer": "ipython3",
   "version": "3.12.4"
  }
 },
 "nbformat": 4,
 "nbformat_minor": 5
}

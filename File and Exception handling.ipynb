{
 "cells": [
  {
   "cell_type": "code",
   "execution_count": 124,
   "id": "ef598500-e1af-48b7-b4be-4da74d704e3f",
   "metadata": {},
   "outputs": [
    {
     "name": "stdout",
     "output_type": "stream",
     "text": [
      "hello world welcome\n",
      "<_io.TextIOWrapper name='hello.txt' mode='r' encoding='cp1252'>\n"
     ]
    }
   ],
   "source": [
    "#Exercise 1\n",
    "file1 = open(\"hello.txt\",\"r\")\n",
    "print(file1.read())\n",
    "print(file1)\n",
    "file1.close()"
   ]
  },
  {
   "cell_type": "code",
   "execution_count": 116,
   "id": "f1f1fe7f-9057-4c53-910f-493a39f1b8de",
   "metadata": {},
   "outputs": [
    {
     "name": "stdout",
     "output_type": "stream",
     "text": [
      " file run Successfully\n"
     ]
    }
   ],
   "source": [
    "# Exercise 2\n",
    "file1 = open(\"hello.txt\",\"w\")\n",
    "file1.write(\"welcome to python world\")\n",
    "print(\" file run Successfully\")\n",
    "file1.close()"
   ]
  },
  {
   "cell_type": "code",
   "execution_count": 120,
   "id": "af49a2f3-0cdd-48d2-830f-919eb6c85021",
   "metadata": {},
   "outputs": [
    {
     "name": "stdout",
     "output_type": "stream",
     "text": [
      "welcome to python world\n",
      "number of words in a file 4\n"
     ]
    }
   ],
   "source": [
    "# Exercise 3\n",
    "with open(\"hello.txt\",\"r\") as file1:\n",
    "     content = file1.read()\n",
    "     print(content)\n",
    "     words = content.split()\n",
    "     num_words = len(words)\n",
    "print(\"number of words in a file\",num_words)\n",
    "                "
   ]
  },
  {
   "cell_type": "code",
   "execution_count": 187,
   "id": "cb9ee6bd-a2f5-4cea-b606-7dca2a7f196e",
   "metadata": {},
   "outputs": [
    {
     "name": "stdin",
     "output_type": "stream",
     "text": [
      "123 123\n"
     ]
    },
    {
     "name": "stdout",
     "output_type": "stream",
     "text": [
      "The integer you entered is 123.\n",
      "Error: The input is not a valid integer.\n"
     ]
    }
   ],
   "source": [
    "# Exercise 4\n",
    "user_input = input(\"123\")\n",
    "    num = int(user_input)\n",
    "    print(f\"The integer you entered is {num}.\")\n",
    "    print(\"Error: The input is not a valid integer.\")"
   ]
  },
  {
   "cell_type": "code",
   "execution_count": 248,
   "id": "7800b660-d9e0-485a-b080-a338b4382c3c",
   "metadata": {},
   "outputs": [
    {
     "name": "stdin",
     "output_type": "stream",
     "text": [
      "Enter a list of integers separated by spaces:  1 2 3 4\n"
     ]
    },
    {
     "name": "stdout",
     "output_type": "stream",
     "text": [
      "All integers are non-negative: [1, 2, 3, 4]\n"
     ]
    }
   ],
   "source": [
    "# Exercise 5\n",
    "user_input = input(\"Enter a list of integers separated by spaces: \")\n",
    "integers = [int(x) for x in user_input.split()]\n",
    "for num in integers:\n",
    "     if num < 0:\n",
    "        raise ValueError(\"Negative numbers are not allowed!\")\n",
    "print(\"All integers are non-negative:\", integers)"
   ]
  },
  {
   "cell_type": "code",
   "execution_count": 250,
   "id": "a874e9e7-69d5-4c50-81a5-ee9a20a556df",
   "metadata": {},
   "outputs": [
    {
     "name": "stdin",
     "output_type": "stream",
     "text": [
      "Enter a list of integers separated by spaces:  1 2 3 4\n"
     ]
    },
    {
     "name": "stdout",
     "output_type": "stream",
     "text": [
      "The average of the integers is: 2.5\n"
     ]
    }
   ],
   "source": [
    "# Exercise 6\n",
    "user_input = input(\"Enter a list of integers separated by spaces: \")\n",
    "integers = [int(x) for x in user_input.split()]\n",
    "if len(integers) == 0:\n",
    "    raise ValueError(\"The list cannot be empty!\")\n",
    "avg = sum(integers) / len(integers)\n",
    "print(f\"The average of the integers is: {avg}\")"
   ]
  },
  {
   "cell_type": "code",
   "execution_count": 252,
   "id": "78233638-096a-4dbd-b78a-85ea04b54fca",
   "metadata": {},
   "outputs": [
    {
     "name": "stdin",
     "output_type": "stream",
     "text": [
      "Enter the filename to write to:  hello.txt\n"
     ]
    },
    {
     "name": "stdout",
     "output_type": "stream",
     "text": [
      "Welcome! The string has been written to the file successfully.\n"
     ]
    }
   ],
   "source": [
    "filename = input(\"Enter the filename to write to: \")\n",
    "data = \"Hello, this is a sample string written to the file.\"\n",
    "with open(filename, 'w') as file:\n",
    "    file.write(data)\n",
    "print(\"Welcome! The string has been written to the file successfully.\")"
   ]
  }
 ],
 "metadata": {
  "kernelspec": {
   "display_name": "Python 3 (ipykernel)",
   "language": "python",
   "name": "python3"
  },
  "language_info": {
   "codemirror_mode": {
    "name": "ipython",
    "version": 3
   },
   "file_extension": ".py",
   "mimetype": "text/x-python",
   "name": "python",
   "nbconvert_exporter": "python",
   "pygments_lexer": "ipython3",
   "version": "3.12.4"
  }
 },
 "nbformat": 4,
 "nbformat_minor": 5
}

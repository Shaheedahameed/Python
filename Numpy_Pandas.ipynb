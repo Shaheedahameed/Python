{
 "cells": [
  {
   "cell_type": "code",
   "execution_count": 5,
   "id": "c62117c3-75e7-45c1-af85-e902e351233c",
   "metadata": {},
   "outputs": [
    {
     "name": "stdout",
     "output_type": "stream",
     "text": [
      "[[ 1  2  3  4  5]\n",
      " [ 6  7  8  9 10]]\n"
     ]
    }
   ],
   "source": [
    "# Exercise 1\n",
    "import numpy as np\n",
    "\n",
    "arr = np.arange(1, 11)\n",
    "\n",
    "reshaped_arr = arr.reshape(2, 5)\n",
    "print(reshaped_arr)\n"
   ]
  },
  {
   "cell_type": "code",
   "execution_count": 7,
   "id": "57a7a42a-b068-49ee-b905-86302398b293",
   "metadata": {},
   "outputs": [
    {
     "name": "stdout",
     "output_type": "stream",
     "text": [
      "[ 6  7  8  9 10 11 12 13 14 15]\n"
     ]
    }
   ],
   "source": [
    "# Exercise 2\n",
    "arr_2 = np.arange(1, 21)\n",
    "\n",
    "extracted_elements = arr_2[5:15]\n",
    "print(extracted_elements)\n"
   ]
  },
  {
   "cell_type": "code",
   "execution_count": 9,
   "id": "f13b6c65-1469-4060-987e-b8336460e041",
   "metadata": {},
   "outputs": [
    {
     "name": "stdout",
     "output_type": "stream",
     "text": [
      "apples     3\n",
      "bananas    2\n",
      "oranges    1\n",
      "pears      4\n",
      "dtype: int64\n"
     ]
    }
   ],
   "source": [
    "# Exercise 3\n",
    "import pandas as pd\n",
    "\n",
    "fruits = pd.Series({'apples': 3, 'bananas': 2, 'oranges': 1})\n",
    "\n",
    "fruits['pears'] = 4\n",
    "print(fruits)"
   ]
  },
  {
   "cell_type": "code",
   "execution_count": 11,
   "id": "5977f47e-3b56-412a-9548-760fca0e0b78",
   "metadata": {},
   "outputs": [
    {
     "name": "stdout",
     "output_type": "stream",
     "text": [
      "     name  age gender\n",
      "0     Anu   25      F\n",
      "1    Binu   30      M\n",
      "2    Achu   35      M\n",
      "3    Simi   40      M\n",
      "4     Eva   22      F\n",
      "5   Meenu   28      M\n",
      "6   Aysha   33      F\n",
      "7    Hila   45      F\n",
      "8  Aleena   26      F\n",
      "9    Tovi   38      M\n"
     ]
    }
   ],
   "source": [
    "# Exercise 4\n",
    "data = {\n",
    "    'name': ['Anu', 'Binu', 'Achu', 'Simi', 'Eva', 'Meenu', 'Aysha', 'Hila', 'Aleena', 'Tovi'],\n",
    "    'age': [25, 30, 35, 40, 22, 28, 33, 45, 26, 38],\n",
    "    'gender': ['F', 'M', 'M', 'M', 'F', 'M', 'F', 'F', 'F', 'M']\n",
    "}\n",
    "\n",
    "df = pd.DataFrame(data)\n",
    "print(df)"
   ]
  },
  {
   "cell_type": "code",
   "execution_count": 13,
   "id": "90014974-1551-43ff-8bd4-eb0fed229c6b",
   "metadata": {},
   "outputs": [
    {
     "name": "stdout",
     "output_type": "stream",
     "text": [
      "     name  age gender  occupation\n",
      "0     Anu   25      F  Programmer\n",
      "1    Binu   30      M     Manager\n",
      "2    Achu   35      M     Analyst\n",
      "3    Simi   40      M     Manager\n",
      "4     Eva   22      F  Programmer\n",
      "5   Meenu   28      M     Analyst\n",
      "6   Aysha   33      F     Manager\n",
      "7    Hila   45      F  Programmer\n",
      "8  Aleena   26      F     Analyst\n",
      "9    Tovi   38      M     Manager\n"
     ]
    }
   ],
   "source": [
    "# Exercise 5\n",
    "df['occupation'] = ['Programmer', 'Manager', 'Analyst', 'Manager', 'Programmer', \n",
    "                     'Analyst', 'Manager', 'Programmer', 'Analyst', 'Manager']\n",
    "print(df)"
   ]
  },
  {
   "cell_type": "code",
   "execution_count": 15,
   "id": "63494a65-47df-4c4a-97c7-02c4a2588258",
   "metadata": {},
   "outputs": [
    {
     "name": "stdout",
     "output_type": "stream",
     "text": [
      "    name  age gender  occupation\n",
      "1   Binu   30      M     Manager\n",
      "2   Achu   35      M     Analyst\n",
      "3   Simi   40      M     Manager\n",
      "6  Aysha   33      F     Manager\n",
      "7   Hila   45      F  Programmer\n",
      "9   Tovi   38      M     Manager\n"
     ]
    }
   ],
   "source": [
    "# Exercise 6\n",
    "df_age_30 = df[df['age'] >= 30]\n",
    "print(df_age_30)"
   ]
  },
  {
   "cell_type": "code",
   "execution_count": 17,
   "id": "d998e279-312a-4fdc-b3eb-b2bed87a1caf",
   "metadata": {},
   "outputs": [
    {
     "name": "stdout",
     "output_type": "stream",
     "text": [
      "     name  age gender  occupation\n",
      "0     Anu   25      F  Programmer\n",
      "1    Binu   30      M     Manager\n",
      "2    Achu   35      M     Analyst\n",
      "3    Simi   40      M     Manager\n",
      "4     Eva   22      F  Programmer\n",
      "5   Meenu   28      M     Analyst\n",
      "6   Aysha   33      F     Manager\n",
      "7    Hila   45      F  Programmer\n",
      "8  Aleena   26      F     Analyst\n",
      "9    Tovi   38      M     Manager\n"
     ]
    }
   ],
   "source": [
    "# Exercise 7\n",
    "df.to_csv('data.csv', index=False)\n",
    "\n",
    "df_from_csv = pd.read_csv('data.csv')\n",
    "print(df_from_csv)"
   ]
  }
 ],
 "metadata": {
  "kernelspec": {
   "display_name": "Python 3 (ipykernel)",
   "language": "python",
   "name": "python3"
  },
  "language_info": {
   "codemirror_mode": {
    "name": "ipython",
    "version": 3
   },
   "file_extension": ".py",
   "mimetype": "text/x-python",
   "name": "python",
   "nbconvert_exporter": "python",
   "pygments_lexer": "ipython3",
   "version": "3.12.4"
  }
 },
 "nbformat": 4,
 "nbformat_minor": 5
}

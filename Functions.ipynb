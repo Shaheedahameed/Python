{
 "cells": [
  {
   "cell_type": "markdown",
   "id": "d1fabbf7-5a5d-4a1a-ab06-eb06ab1c06de",
   "metadata": {},
   "source": [
    "len function :- len() function is a build in function in python. the len() function in python returns thr number of items in an object.it can used with \n",
    "various data type like string,tuples etc...\n"
   ]
  },
  {
   "cell_type": "code",
   "execution_count": 1,
   "id": "ecd8a83b-8741-4b7d-98cd-b3119925179c",
   "metadata": {},
   "outputs": [
    {
     "name": "stdout",
     "output_type": "stream",
     "text": [
      "Length of the list: 5\n"
     ]
    }
   ],
   "source": [
    "my_list = [1, 2, 3, 4, 5]\n",
    "list_length = len(my_list)\n",
    "print(\"Length of the list:\", list_length)"
   ]
  },
  {
   "cell_type": "code",
   "execution_count": 45,
   "id": "1166e1f8-80eb-441d-a798-98516811fe0b",
   "metadata": {},
   "outputs": [
    {
     "name": "stdout",
     "output_type": "stream",
     "text": [
      "Hello  Anu welcome\n"
     ]
    }
   ],
   "source": [
    "def great(name,msg = \" welcome\"):\n",
    "     print(\"Hello \" + name + msg)\n",
    "great(\" Anu\")"
   ]
  },
  {
   "cell_type": "code",
   "execution_count": 33,
   "id": "0fe033d2-cc48-46d5-a581-ab2582eddbf4",
   "metadata": {},
   "outputs": [
    {
     "name": "stdout",
     "output_type": "stream",
     "text": [
      "9\n"
     ]
    }
   ],
   "source": [
    "def find_maximum(numbers):\n",
    "    if not numbers: \n",
    "        return None\n",
    "    \n",
    "    max_value = numbers[0]  \n",
    "    for num in numbers:  \n",
    "        if num > max_value:  \n",
    "            max_value = num  \n",
    "            \n",
    "    return max_value\n",
    "\n",
    "numbers = [4, 2, 9, 6, 5]\n",
    "print(find_maximum(numbers)) "
   ]
  },
  {
   "cell_type": "markdown",
   "id": "ed67fc79-b0df-446e-a0fc-5f30f7fdab76",
   "metadata": {},
   "source": [
    "Local Variable\n",
    "*the local variable of function is  the set of variables that are defined inside the function\n",
    "*it can only accessed from within the function\n",
    "*when a function is called ,python creates a new local name space for that function\n",
    "*any variables that arer defined inside the function are added to this namespace\n",
    "\n",
    "Global Variable\n",
    "*the global variable of function is  the set of variables that are defined outside the function\n",
    "*it can be accessed from any where in the program\n",
    "*if a variable is used inside a function without being explicitly defined inside the function\n",
    "*Global variables can be useful for sharing data between functions"
   ]
  },
  {
   "cell_type": "code",
   "execution_count": 35,
   "id": "b41ccbf8-c188-4d08-93c7-b8c4a6691b9f",
   "metadata": {},
   "outputs": [
    {
     "name": "stdout",
     "output_type": "stream",
     "text": [
      "Inside the function: Hello\n",
      "Outside the function: Hey\n"
     ]
    }
   ],
   "source": [
    "\n",
    "name = \"Hey\"\n",
    "\n",
    "def example_function():\n",
    "  \n",
    "    name = \"Hello\"\n",
    "    print(f\"Inside the function: {name}\") \n",
    "example_function() \n",
    "print(f\"Outside the function: {name}\")  \n"
   ]
  },
  {
   "cell_type": "code",
   "execution_count": 37,
   "id": "84055b27-957e-4479-a0bd-e7cd4868533c",
   "metadata": {},
   "outputs": [
    {
     "name": "stdout",
     "output_type": "stream",
     "text": [
      "Area with both length and width: 30\n",
      "Area with default width: 50\n"
     ]
    }
   ],
   "source": [
    "def calculate_area(length, width=5):\n",
    "    return length * width\n",
    "area_with_both = calculate_area(10, 3)\n",
    "print(\"Area with both length and width:\", area_with_both)  \n",
    "area_with_default_width = calculate_area(10)\n",
    "print(\"Area with default width:\", area_with_default_width)  \n",
    "\n"
   ]
  }
 ],
 "metadata": {
  "kernelspec": {
   "display_name": "Python 3 (ipykernel)",
   "language": "python",
   "name": "python3"
  },
  "language_info": {
   "codemirror_mode": {
    "name": "ipython",
    "version": 3
   },
   "file_extension": ".py",
   "mimetype": "text/x-python",
   "name": "python",
   "nbconvert_exporter": "python",
   "pygments_lexer": "ipython3",
   "version": "3.12.4"
  }
 },
 "nbformat": 4,
 "nbformat_minor": 5
}
